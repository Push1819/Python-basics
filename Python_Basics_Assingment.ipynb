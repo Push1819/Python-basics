{
  "nbformat": 4,
  "nbformat_minor": 0,
  "metadata": {
    "colab": {
      "provenance": []
    },
    "kernelspec": {
      "name": "python3",
      "display_name": "Python 3"
    },
    "language_info": {
      "name": "python"
    }
  },
  "cells": [
    {
      "cell_type": "markdown",
      "source": [
        "THEORY QUESTIONS\n",
        "\n",
        "Q 1 .\n",
        "\n",
        "ANS. Python is high level interprated programming langauges .\n",
        "     it is popular because\n",
        "     1. Easy to use\n",
        "     2. versatile\n",
        "     3. community and support\n",
        "     4. Industry support\n",
        "\n",
        "\n",
        "Q 2 .\n",
        "\n",
        "ANS. In Python, an interpreter is a program that executes the code you write by reading and executing it line by line. It translates the high-level instructions (the code you write) into machine code\n",
        "\n",
        "Q 3 .\n",
        "\n",
        "Ans . Pre-defined keywords in Python are reserved words that have special meanings and functionalities. They form the vocabulary of the Python language\n",
        "\n",
        "Q 4 .\n",
        "\n",
        "Ans . No, keywords in Python cannot be used as variable names.\n",
        "\n",
        "Q 5\n",
        "\n",
        "Ans. Mutability in Python refers to the ability of an object to be modified after it has been created. In other words, if an object's state (its data) can be changed, it is considered mutable. Conversely, if an objects state cannot be altered once it has been created, it is considered immutable.\n",
        "\n",
        "Q 6\n",
        "\n",
        "Ans . The mutability of lists and the immutability of tuples in Python is by design and serves different purposes in programming.\n",
        "\n",
        "Q 7 .\n",
        "\n",
        "Ans.\n",
        "1. The == operator checks whether the values of two objects are equal. It compares the contents or values within the objects.\n",
        "\n",
        "2. The is operator checks whether two objects are the same object in memory. It compares the identities of the objects, not their values.\n",
        "\n",
        "Q 8.\n",
        "Ans . Logical operators in Python are used to combine conditional statements and evaluate expressions to return either True or False. They are essential in decision-making processes within the code. Here are the three main logical operators in Python\n",
        "\n",
        "Q 9\n",
        "Ans . Type casting in Python, also known as type conversion, is the process of converting a variable from one data type to another.\n",
        "\n",
        "Q 10\n",
        "Ans  1. Implicit type casting is performed automatically by the Python\n",
        "        interpreter without any intervention from the programmer.\n",
        "     2. Explicit type casting is initiated by the programmer using built-in\n",
        "        functions to convert one data type to another.\n",
        "\n",
        "Q 11\n",
        "Ans  Conditional statements in Python are used to perform different actions based on whether a specific condition or set of conditions is true or false. They allow you to control the flow of your program by executing different code blocks depending on the outcome of the conditions.\n",
        "\n",
        "Q 12\n",
        "Ans\n",
        " 1. Check Initial Condition with if: The if statement checks the first condition. If the condition is true, the code block associated with the if statement is executed, and the rest of the conditions are skipped.\n",
        "\n",
        "2. Check Additional Conditions with elif: If the initial if condition is false, the elif statement checks the next condition. If the elif condition is true, its associated code block is executed, and the remaining conditions are skipped.\n",
        "\n",
        "3. Use else for Default Case: If none of the if or elif conditions are true, the else statement's code block is executed as the default case.\n",
        "\n",
        "Q 13\n",
        "Ans . For loop :- Used for iterating over a sequence (like a list, tuple, dictionary, set, or string) or other iterable objects.\n",
        "\n",
        "      while loop :- Used for repeating a block of code as long as a condition is true.\n",
        "\n",
        "Q14\n",
        "Ans . A scenario where a while loop is more suitable than a for loop is when you need to repeatedly execute a block of code as long as a certain condition remains true, but you don't know beforehand how many iterations it will take.\n",
        "\n",
        "\n"
      ],
      "metadata": {
        "id": "vEsCFCRZjDJt"
      }
    },
    {
      "cell_type": "code",
      "source": [
        "# PRACTICAL QUESTIONS ."
      ],
      "metadata": {
        "id": "Vy4Y4HWNtVqe"
      },
      "execution_count": null,
      "outputs": []
    },
    {
      "cell_type": "code",
      "source": [
        "# Q 1"
      ],
      "metadata": {
        "id": "WCdjQX9_uOr6"
      },
      "execution_count": null,
      "outputs": []
    },
    {
      "cell_type": "code",
      "source": [
        "print(\"hello world !\")"
      ],
      "metadata": {
        "colab": {
          "base_uri": "https://localhost:8080/"
        },
        "id": "6bpv1N_QuUOq",
        "outputId": "e450125d-cebd-4f6d-f3af-33f4c029e0cf"
      },
      "execution_count": null,
      "outputs": [
        {
          "output_type": "stream",
          "name": "stdout",
          "text": [
            "hello world !\n"
          ]
        }
      ]
    },
    {
      "cell_type": "code",
      "source": [
        "# Q 2"
      ],
      "metadata": {
        "id": "jeqtdTgOuZuB"
      },
      "execution_count": null,
      "outputs": []
    },
    {
      "cell_type": "code",
      "source": [
        "name = input(\"please enter your name: \")"
      ],
      "metadata": {
        "colab": {
          "base_uri": "https://localhost:8080/"
        },
        "id": "RlxbAb9V1dpO",
        "outputId": "f670c6d6-74fe-47ba-d0aa-6acec10d829c"
      },
      "execution_count": null,
      "outputs": [
        {
          "name": "stdout",
          "output_type": "stream",
          "text": [
            "please enter your name: pushpendra singh\n"
          ]
        }
      ]
    },
    {
      "cell_type": "code",
      "source": [
        "age = 25\n"
      ],
      "metadata": {
        "id": "FA4s5_4q3VDB"
      },
      "execution_count": null,
      "outputs": []
    },
    {
      "cell_type": "code",
      "source": [
        "age\n"
      ],
      "metadata": {
        "colab": {
          "base_uri": "https://localhost:8080/"
        },
        "id": "szvI_eGh316J",
        "outputId": "b243ba44-5c0c-4a05-aa14-bce95df46521"
      },
      "execution_count": null,
      "outputs": [
        {
          "output_type": "execute_result",
          "data": {
            "text/plain": [
              "25"
            ]
          },
          "metadata": {},
          "execution_count": 37
        }
      ]
    },
    {
      "cell_type": "code",
      "source": [
        "#Q3"
      ],
      "metadata": {
        "id": "4ZRfBonY-DO7"
      },
      "execution_count": null,
      "outputs": []
    },
    {
      "cell_type": "code",
      "source": [
        "help('keywords')"
      ],
      "metadata": {
        "colab": {
          "base_uri": "https://localhost:8080/"
        },
        "id": "636VR4-v-YWx",
        "outputId": "24447000-02ef-4af3-c8b4-3c770efc89c3"
      },
      "execution_count": null,
      "outputs": [
        {
          "output_type": "stream",
          "name": "stdout",
          "text": [
            "\n",
            "Here is a list of the Python keywords.  Enter any keyword to get more help.\n",
            "\n",
            "False               class               from                or\n",
            "None                continue            global              pass\n",
            "True                def                 if                  raise\n",
            "and                 del                 import              return\n",
            "as                  elif                in                  try\n",
            "assert              else                is                  while\n",
            "async               except              lambda              with\n",
            "await               finally             nonlocal            yield\n",
            "break               for                 not                 \n",
            "\n"
          ]
        }
      ]
    },
    {
      "cell_type": "code",
      "source": [
        "# Q4"
      ],
      "metadata": {
        "id": "D7ZPs1dn-c0x"
      },
      "execution_count": null,
      "outputs": []
    },
    {
      "cell_type": "code",
      "source": [
        "import keyword\n",
        "\n",
        "word = input(\"finally:\")\n",
        "if keyword.iskeyword(\"finally\"):\n",
        "    print(f\"{word} is a keyword.\")\n",
        "else:\n",
        "    print(f\"{word} is not a keyword.\")"
      ],
      "metadata": {
        "colab": {
          "base_uri": "https://localhost:8080/"
        },
        "id": "zTPEp38RBP_O",
        "outputId": "0ceb515e-d73c-4c06-b212-4c7b74bf8f27"
      },
      "execution_count": null,
      "outputs": [
        {
          "output_type": "stream",
          "name": "stdout",
          "text": [
            "finally:word\n",
            "word is a keyword.\n"
          ]
        }
      ]
    },
    {
      "cell_type": "code",
      "source": [
        "#Q5\n",
        "\n",
        "\n",
        "list_cont=[1,25,10j,\"pwskills\",'Push']"
      ],
      "metadata": {
        "id": "WnqqgRPeD1K7"
      },
      "execution_count": null,
      "outputs": []
    },
    {
      "cell_type": "code",
      "source": [
        "list_cont[2]=100"
      ],
      "metadata": {
        "id": "n2M4qVagHUea"
      },
      "execution_count": null,
      "outputs": []
    },
    {
      "cell_type": "code",
      "source": [
        "list_cont"
      ],
      "metadata": {
        "colab": {
          "base_uri": "https://localhost:8080/"
        },
        "id": "U8eTtpZv8sct",
        "outputId": "37ba4243-89c2-4e2d-bcd3-56b1317c588e"
      },
      "execution_count": null,
      "outputs": [
        {
          "output_type": "execute_result",
          "data": {
            "text/plain": [
              "[1, 25, 100, 'pwskills', 'Push']"
            ]
          },
          "metadata": {},
          "execution_count": 5
        }
      ]
    },
    {
      "cell_type": "code",
      "source": [
        "list_cont=[1,25,10j,\"pwskills\",'Push']"
      ],
      "metadata": {
        "id": "qAX5gAQH8wYO"
      },
      "execution_count": null,
      "outputs": []
    },
    {
      "cell_type": "code",
      "source": [
        "my_tuple=(1,25,10j,\"pwskills\",'Push')"
      ],
      "metadata": {
        "id": "2kY1DN3w-EJw"
      },
      "execution_count": null,
      "outputs": []
    },
    {
      "source": [
        "list_cont[3]=300\n",
        "print(\"updated list:\",list_cont)\n",
        "\n",
        "my_tuple_list = list(my_tuple)\n",
        "my_tuple_list[3] = 300\n",
        "my_tuple = tuple(my_tuple_list)\n",
        "\n",
        "print(\"updated tuple:\",my_tuple)"
      ],
      "cell_type": "code",
      "metadata": {
        "colab": {
          "base_uri": "https://localhost:8080/"
        },
        "id": "fAMiiNenCgf3",
        "outputId": "a8ba4f4c-5f00-40bb-ea88-893cd5fccca3"
      },
      "execution_count": null,
      "outputs": [
        {
          "output_type": "stream",
          "name": "stdout",
          "text": [
            "updated list: [1, 25, 10j, 300, 'Push']\n",
            "updated tuple: (1, 25, 10j, 300, 'Push')\n"
          ]
        }
      ]
    },
    {
      "cell_type": "code",
      "source": [
        "# Q 8 logical operator"
      ],
      "metadata": {
        "id": "AdHoXynD_sUU"
      },
      "execution_count": null,
      "outputs": []
    },
    {
      "cell_type": "code",
      "source": [
        "True and True"
      ],
      "metadata": {
        "colab": {
          "base_uri": "https://localhost:8080/"
        },
        "id": "Z4stywAcCJJx",
        "outputId": "28eae7db-2e64-45c3-e6a4-ffce06a7e3fb"
      },
      "execution_count": null,
      "outputs": [
        {
          "output_type": "execute_result",
          "data": {
            "text/plain": [
              "True"
            ]
          },
          "metadata": {},
          "execution_count": 12
        }
      ]
    },
    {
      "cell_type": "code",
      "source": [
        "False and True"
      ],
      "metadata": {
        "colab": {
          "base_uri": "https://localhost:8080/"
        },
        "id": "G3wDBvLTCLwH",
        "outputId": "b4b3c6e5-717c-4b2e-c630-57684243d479"
      },
      "execution_count": null,
      "outputs": [
        {
          "output_type": "execute_result",
          "data": {
            "text/plain": [
              "False"
            ]
          },
          "metadata": {},
          "execution_count": 14
        }
      ]
    },
    {
      "cell_type": "code",
      "source": [
        "False and Flase"
      ],
      "metadata": {
        "colab": {
          "base_uri": "https://localhost:8080/"
        },
        "id": "CTS0AUAsC64k",
        "outputId": "26a8a328-882c-479e-b6c1-ec459c285c1e"
      },
      "execution_count": null,
      "outputs": [
        {
          "output_type": "execute_result",
          "data": {
            "text/plain": [
              "False"
            ]
          },
          "metadata": {},
          "execution_count": 15
        }
      ]
    },
    {
      "cell_type": "code",
      "source": [
        "True or True"
      ],
      "metadata": {
        "colab": {
          "base_uri": "https://localhost:8080/"
        },
        "id": "CBkpzqtwC-2E",
        "outputId": "66d3824c-6509-4a3a-c597-00a5fdad8de3"
      },
      "execution_count": null,
      "outputs": [
        {
          "output_type": "execute_result",
          "data": {
            "text/plain": [
              "True"
            ]
          },
          "metadata": {},
          "execution_count": 16
        }
      ]
    },
    {
      "cell_type": "code",
      "source": [
        "False or False"
      ],
      "metadata": {
        "colab": {
          "base_uri": "https://localhost:8080/"
        },
        "id": "kIlv8QxrDKCZ",
        "outputId": "ef3dbc56-6aa9-402a-a7f9-ab03b84c49f4"
      },
      "execution_count": 2,
      "outputs": [
        {
          "output_type": "execute_result",
          "data": {
            "text/plain": [
              "False"
            ]
          },
          "metadata": {},
          "execution_count": 2
        }
      ]
    },
    {
      "cell_type": "code",
      "source": [
        "# Q13\n",
        "\n",
        "# Initialize the sum variable\n",
        "even_sum = 0\n",
        "\n",
        "# Loop through numbers from 1 to 50\n",
        "for num in range(1, 51):\n",
        "\n",
        "    if num % 2 == 0:\n",
        "        # Add the even number to the sum\n",
        "        even_sum += num\n",
        "\n",
        "# Print the result\n",
        "print(\"The sum of all even numbers between 1 and 50 is:\", even_sum)\n"
      ],
      "metadata": {
        "id": "tzPOtUBxDP5X",
        "colab": {
          "base_uri": "https://localhost:8080/"
        },
        "outputId": "1126734d-c4e7-484d-b9e3-06aed7f3e44d"
      },
      "execution_count": 1,
      "outputs": [
        {
          "output_type": "stream",
          "name": "stdout",
          "text": [
            "The sum of all even numbers between 1 and 50 is: 650\n"
          ]
        }
      ]
    },
    {
      "cell_type": "code",
      "source": [
        "# Q 11"
      ],
      "metadata": {
        "id": "zbkWEaUkyOWq"
      },
      "execution_count": 3,
      "outputs": []
    },
    {
      "cell_type": "code",
      "source": [
        "# Function to check if the number is positive, negative, or zero\n",
        "def check_number(num):\n",
        "    if num > 0:\n",
        "        return \"The number is positive.\"\n",
        "    elif num < 0:\n",
        "        return \"The number is negative.\"\n",
        "    else:\n",
        "        return \"The number is zero.\"\n",
        "\n",
        "number = float(input(\"Enter a number: \"))\n",
        "\n",
        "result = check_number(number)\n",
        "print(result)\n"
      ],
      "metadata": {
        "colab": {
          "base_uri": "https://localhost:8080/"
        },
        "id": "PiC9CGw4y2WH",
        "outputId": "c450dd84-0378-44b0-a5ba-f60b23a124f2"
      },
      "execution_count": 4,
      "outputs": [
        {
          "output_type": "stream",
          "name": "stdout",
          "text": [
            "Enter a number: 2\n",
            "The number is positive.\n"
          ]
        }
      ]
    },
    {
      "cell_type": "code",
      "source": [
        "# Q12"
      ],
      "metadata": {
        "id": "Gwz2XRVWy3rQ"
      },
      "execution_count": 5,
      "outputs": []
    },
    {
      "cell_type": "code",
      "source": [
        "# Loop through numbers from 1 to 10\n",
        "for num in range(1, 11):\n",
        "    print(num)\n"
      ],
      "metadata": {
        "colab": {
          "base_uri": "https://localhost:8080/"
        },
        "id": "SLeTsQPf3HZ2",
        "outputId": "a25a570c-30f6-4cef-c726-72438346363d"
      },
      "execution_count": 6,
      "outputs": [
        {
          "output_type": "stream",
          "name": "stdout",
          "text": [
            "1\n",
            "2\n",
            "3\n",
            "4\n",
            "5\n",
            "6\n",
            "7\n",
            "8\n",
            "9\n",
            "10\n"
          ]
        }
      ]
    },
    {
      "cell_type": "code",
      "source": [
        "# Q15"
      ],
      "metadata": {
        "id": "ftotK9fG3Jm2"
      },
      "execution_count": 7,
      "outputs": []
    },
    {
      "cell_type": "code",
      "source": [
        "\n",
        "num = int(input(\"Enter a number: \"))\n",
        "\n",
        "factorial = 1\n",
        "\n",
        "i = 1\n",
        "\n",
        "while i <= num:\n",
        "    factorial *= i\n",
        "    i += 1\n",
        "\n",
        "print(f\"The factorial of {num} is {factorial}\")\n"
      ],
      "metadata": {
        "colab": {
          "base_uri": "https://localhost:8080/"
        },
        "id": "5V1PZp423mHm",
        "outputId": "0e0526c9-ccc3-4c29-8eae-12d04c4133a0"
      },
      "execution_count": 8,
      "outputs": [
        {
          "output_type": "stream",
          "name": "stdout",
          "text": [
            "Enter a number: 2\n",
            "The factorial of 2 is 2\n"
          ]
        }
      ]
    },
    {
      "cell_type": "code",
      "source": [],
      "metadata": {
        "id": "WLyOYiHX3nn8"
      },
      "execution_count": null,
      "outputs": []
    }
  ]
}